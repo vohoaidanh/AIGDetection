{
 "cells": [
  {
   "cell_type": "code",
   "execution_count": null,
   "id": "50d35cdd-276a-4b07-bd55-05e6f4329233",
   "metadata": {},
   "outputs": [
    {
     "name": "stderr",
     "output_type": "stream",
     "text": [
      "Downloading...\n",
      "From (original): https://drive.google.com/uc?id=1xHhCcCWtv57tnlAKh5sLSofuzcZcFfsP\n",
      "From (redirected): https://drive.google.com/uc?id=1xHhCcCWtv57tnlAKh5sLSofuzcZcFfsP&confirm=t&uuid=3b0ca2f2-5c3c-4c48-a4b6-d70108943cb9\n",
      "To: /workspace/Progan_train.zip\n",
      " 13%|█▎        | 1.99G/15.0G [00:56<04:44, 45.6MB/s]"
     ]
    }
   ],
   "source": [
    "import gdown\n",
    "#https://drive.google.com/file/d/1xHhCcCWtv57tnlAKh5sLSofuzcZcFfsP/view?usp=drive_link\n",
    "#https://drive.google.com/file/d/1ytZBMhTWZ6pGrrzID2a7mPASLKOWGhri/view?usp=drive_link\n",
    "file_id = '1xHhCcCWtv57tnlAKh5sLSofuzcZcFfsP'\n",
    "destination = '/workspace/Progan_train.zip'  # Desired file name and extension\n",
    "\n",
    "# Construct the download URL\n",
    "url = f'https://drive.google.com/uc?id={file_id}'\n",
    "\n",
    "# Download the file\n",
    "gdown.download(url, destination, quiet=False)\n"
   ]
  },
  {
   "cell_type": "code",
   "execution_count": 4,
   "id": "8acdb36b-c328-4ec7-97b4-7248f4a721f2",
   "metadata": {},
   "outputs": [],
   "source": [
    "!unzip -q $destination -d /workspace/dataset/ForenSynths_train_val"
   ]
  },
  {
   "cell_type": "code",
   "execution_count": null,
   "id": "216785a4-cc62-48ab-b54b-3596f2f60305",
   "metadata": {},
   "outputs": [],
   "source": []
  }
 ],
 "metadata": {
  "kernelspec": {
   "display_name": "Python 3 (ipykernel)",
   "language": "python",
   "name": "python3"
  },
  "language_info": {
   "codemirror_mode": {
    "name": "ipython",
    "version": 3
   },
   "file_extension": ".py",
   "mimetype": "text/x-python",
   "name": "python",
   "nbconvert_exporter": "python",
   "pygments_lexer": "ipython3",
   "version": "3.10.13"
  }
 },
 "nbformat": 4,
 "nbformat_minor": 5
}
