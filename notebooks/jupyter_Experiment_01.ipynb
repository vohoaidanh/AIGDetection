{
 "cells": [
  {
   "cell_type": "markdown",
   "metadata": {
    "id": "4bsPZQKgE3tX"
   },
   "source": [
    "## AIGCDetectBenchmark\n"
   ]
  },
  {
   "cell_type": "markdown",
   "metadata": {},
   "source": [
    "## Install requirement"
   ]
  },
  {
   "cell_type": "code",
   "execution_count": null,
   "metadata": {},
   "outputs": [],
   "source": [
    "!git clone https://github.com/vohoaidanh/AIGDetection.git"
   ]
  },
  {
   "cell_type": "code",
   "execution_count": null,
   "metadata": {
    "colab": {
     "base_uri": "https://localhost:8080/"
    },
    "id": "yZtRWDeMing8",
    "outputId": "5d83d40e-05ac-4bbe-a5b5-29ea56eaaca5"
   },
   "outputs": [],
   "source": [
    "!pip install ftfy -q\n",
    "!pip install natsort -q\n",
    "!pip install blobfile -q\n",
    "#!pip install mpi4py -q\n",
    "!pip install comet_ml -q\n",
    "!pip install grad-cam -q\n"
   ]
  },
  {
   "cell_type": "code",
   "execution_count": null,
   "metadata": {
    "scrolled": true
   },
   "outputs": [],
   "source": [
    "!pip install tensorboardX -q\n",
    "!apt-get install -y unzip -q\n",
    "!apt-get install -y zip -q\n",
    "!pip install regex -q\n",
    "!pip install imageio -q\n",
    "!pip install opencv-python -q\n",
    "!apt-get install -y libgl1-mesa-glx -q\n",
    "!pip install scikit-learn -q\n",
    "!pip install scikit-image -q\n",
    "!pip install gdown -q\n",
    "!pip install pickleshare -q"
   ]
  },
  {
   "cell_type": "code",
   "execution_count": null,
   "metadata": {
    "colab": {
     "base_uri": "https://localhost:8080/"
    },
    "id": "n9HXSjhchADX",
    "outputId": "e7c10e63-1b0e-4c5f-8ea6-cdc24bd92a72"
   },
   "outputs": [],
   "source": [
    "%cd /workspace/AIGDetection"
   ]
  },
  {
   "cell_type": "markdown",
   "metadata": {},
   "source": [
    "## Train"
   ]
  },
  {
   "cell_type": "code",
   "execution_count": 15,
   "metadata": {},
   "outputs": [
    {
     "name": "stdout",
     "output_type": "stream",
     "text": [
      "ls: cannot access 'checkpoints': No such file or directory\n"
     ]
    }
   ],
   "source": [
    "!ls checkpoints"
   ]
  },
  {
   "cell_type": "code",
   "execution_count": null,
   "metadata": {
    "scrolled": true
   },
   "outputs": [
    {
     "name": "stdout",
     "output_type": "stream",
     "text": [
      "----------------- Options ---------------\n",
      "                     arch: res50                         \n",
      "               batch_size: 32                            \t[default: 64]\n",
      "                    beta1: 0.9                           \n",
      "                blur_prob: 0                             \n",
      "                 blur_sig: 0.5                           \n",
      "          checkpoints_dir: ./checkpoints                 \n",
      "                class_bal: False                         \n",
      "                  classes: car,cat,chair,horse           \t[default: ]\n",
      "           continue_train: False                         \n",
      "                 cropSize: 224                           \n",
      "                 data_aug: False                         \n",
      "                 dataroot: /workspace/datasets/ForenSynths_train_val\t[default: ./dataset/]\n",
      "                delr_freq: 10                            \t[default: 20]\n",
      "            detect_method: experiment_01                 \t[default: NPR]\n",
      "          earlystop_epoch: 15                            \n",
      "                    epoch: latest                        \n",
      "              epoch_count: 1                             \n",
      "                  gpu_ids: 0                             \n",
      "                init_gain: 0.02                          \n",
      "                init_type: normal                        \n",
      "                  isTrain: True                          \t[default: None]\n",
      "               jpg_method: cv2                           \n",
      "                 jpg_prob: 0                             \n",
      "                 jpg_qual: 75                            \n",
      "               last_epoch: -1                            \n",
      "                 loadSize: 256                           \n",
      "                  loss_fn: BCEWithLogitsLoss             \n",
      "                loss_freq: 400                           \n",
      "                       lr: 0.0002                        \t[default: 0.0001]\n",
      "                     mode: binary                        \n",
      "                     name: experiment-01-no-filter-2024_07_02_02_20_09\t[default: experiment_name]\n",
      "                new_optim: False                         \n",
      "                    niter: 20                            \t[default: 1000]\n",
      "                  no_flip: False                         \n",
      "              num_threads: 8                             \n",
      "                    optim: adam                          \n",
      "           resize_or_crop: scale_and_crop                \n",
      "                rz_interp: bilinear                      \n",
      "          save_epoch_freq: 20                            \n",
      "         save_latest_freq: 2000                          \n",
      "           serial_batches: False                         \n",
      "                   suffix:                               \n",
      "              train_split: train                         \n",
      "                val_split: val                           \n",
      "----------------- End -------------------\n",
      "train.py  --name  experiment-01-no-filter-  --dataroot  /workspace/datasets/ForenSynths_train_val  --detect_method  experiment_01  --classes  car,cat,chair,horse  --batch_size  32  --delr_freq  10  --lr  0.0002  --niter  20\n",
      "Detect method model experiment_01\n",
      "Experiment config is \n",
      " ******************** \n",
      " {\n",
      "    \"kernel_size\": [\n",
      "        5,\n",
      "        5\n",
      "    ],\n",
      "    \"sigma\": [\n",
      "        2.0,\n",
      "        2.0\n",
      "    ],\n",
      "    \"filter\": \"low_pass_filter\"\n",
      "}\n",
      " ********************\n",
      "cwd: /workspace/AIGDetection\n",
      "2024_07_02_02_21_12 Train loss: 0.27463066577911377 at step: 400 lr 0.0002\n",
      "2024_07_02_02_22_12 Train loss: 0.042676933109760284 at step: 800 lr 0.0002\n",
      "2024_07_02_02_23_11 Train loss: 0.09035487473011017 at step: 1200 lr 0.0002\n",
      "2024_07_02_02_24_11 Train loss: 0.006608322262763977 at step: 1600 lr 0.0002\n",
      "2024_07_02_02_25_11 Train loss: 0.1267794519662857 at step: 2000 lr 0.0002\n",
      "2024_07_02_02_26_10 Train loss: 0.020565543323755264 at step: 2400 lr 0.0002\n",
      "2024_07_02_02_27_10 Train loss: 0.003541200188919902 at step: 2800 lr 0.0002\n",
      "2024_07_02_02_28_10 Train loss: 0.04132727161049843 at step: 3200 lr 0.0002\n",
      "2024_07_02_02_29_10 Train loss: 0.003200874663889408 at step: 3600 lr 0.0002\n",
      "2024_07_02_02_30_11 Train loss: 0.02484147809445858 at step: 4000 lr 0.0002\n",
      "2024_07_02_02_31_10 Train loss: 0.01541971042752266 at step: 4400 lr 0.0002\n",
      "(Val @ epoch 0) acc: 0.890625; ap: 0.977933624421833\n",
      "Saving model ./checkpoints/experiment-01-no-filter-2024_07_02_02_20_09/model_epoch_last.pth\n",
      "acc increate 0 --> 0.890625, saving best model\n",
      "Saving model ./checkpoints/experiment-01-no-filter-2024_07_02_02_20_09/model_epoch_0_best.pth\n",
      "2024_07_02_02_32_15 Train loss: 0.03007391467690468 at step: 4800 lr 0.0002\n",
      "2024_07_02_02_33_15 Train loss: 0.16902188956737518 at step: 5200 lr 0.0002\n",
      "2024_07_02_02_34_15 Train loss: 0.0018762480467557907 at step: 5600 lr 0.0002\n",
      "2024_07_02_02_35_15 Train loss: 0.0011765764793381095 at step: 6000 lr 0.0002\n",
      "2024_07_02_02_36_15 Train loss: 0.08394374698400497 at step: 6400 lr 0.0002\n",
      "2024_07_02_02_37_16 Train loss: 0.012196677736938 at step: 6800 lr 0.0002\n",
      "2024_07_02_02_38_22 Train loss: 0.05084116756916046 at step: 7200 lr 0.0002\n",
      "2024_07_02_02_39_24 Train loss: 0.004765279591083527 at step: 7600 lr 0.0002\n",
      "2024_07_02_02_40_24 Train loss: 0.005405441392213106 at step: 8000 lr 0.0002\n",
      "2024_07_02_02_41_24 Train loss: 0.000897141289897263 at step: 8400 lr 0.0002\n",
      "2024_07_02_02_42_23 Train loss: 0.07888731360435486 at step: 8800 lr 0.0002\n",
      "(Val @ epoch 1) acc: 0.980625; ap: 0.9995752018926061\n",
      "Saving model ./checkpoints/experiment-01-no-filter-2024_07_02_02_20_09/model_epoch_last.pth\n",
      "acc increate 0.890625 --> 0.980625, saving best model\n",
      "Saving model ./checkpoints/experiment-01-no-filter-2024_07_02_02_20_09/model_epoch_1_best.pth\n",
      "2024_07_02_02_43_27 Train loss: 0.008689936250448227 at step: 9200 lr 0.0002\n",
      "2024_07_02_02_44_26 Train loss: 0.003222932107746601 at step: 9600 lr 0.0002\n",
      "2024_07_02_02_45_25 Train loss: 0.004482143558561802 at step: 10000 lr 0.0002\n",
      "2024_07_02_02_46_25 Train loss: 0.07297887653112411 at step: 10400 lr 0.0002\n",
      "2024_07_02_02_47_24 Train loss: 0.02372150309383869 at step: 10800 lr 0.0002\n",
      "2024_07_02_02_48_24 Train loss: 0.008555253967642784 at step: 11200 lr 0.0002\n",
      "2024_07_02_02_49_23 Train loss: 0.0014147047186270356 at step: 11600 lr 0.0002\n",
      "2024_07_02_02_50_22 Train loss: 0.019930891692638397 at step: 12000 lr 0.0002\n",
      "2024_07_02_02_51_28 Train loss: 0.015044964849948883 at step: 12400 lr 0.0002\n",
      "2024_07_02_02_52_43 Train loss: 0.004861175082623959 at step: 12800 lr 0.0002\n",
      "2024_07_02_02_53_58 Train loss: 0.0038649116177111864 at step: 13200 lr 0.0002\n",
      "(Val @ epoch 2) acc: 0.998125; ap: 0.999993755837448\n",
      "Saving model ./checkpoints/experiment-01-no-filter-2024_07_02_02_20_09/model_epoch_last.pth\n",
      "acc increate 0.980625 --> 0.998125, saving best model\n",
      "Saving model ./checkpoints/experiment-01-no-filter-2024_07_02_02_20_09/model_epoch_2_best.pth\n",
      "2024_07_02_02_55_17 Train loss: 0.0028320634737610817 at step: 13600 lr 0.0002\n"
     ]
    }
   ],
   "source": [
    "#experiment-01-no-filter\n",
    "!python train.py \\\n",
    "--name experiment-01-no-filter- \\\n",
    "--dataroot /workspace/datasets/ForenSynths_train_val \\\n",
    "--detect_method experiment_01 \\\n",
    "--classes car,cat,chair,horse --batch_size 32 --delr_freq 10 --lr 0.0002 --niter 20"
   ]
  },
  {
   "cell_type": "markdown",
   "metadata": {},
   "source": [
    "## Test mode"
   ]
  },
  {
   "cell_type": "code",
   "execution_count": null,
   "metadata": {},
   "outputs": [],
   "source": [
    "!ls checkpoints/*/*.pth\n"
   ]
  },
  {
   "cell_type": "code",
   "execution_count": null,
   "metadata": {
    "scrolled": true
   },
   "outputs": [],
   "source": [
    "#Gradient full resnet test\n",
    "model_path = \"\"\n",
    "!python test.py --model_path $model_path --batch_size 32"
   ]
  },
  {
   "cell_type": "markdown",
   "metadata": {},
   "source": [
    "## Download data\n"
   ]
  },
  {
   "cell_type": "code",
   "execution_count": null,
   "metadata": {},
   "outputs": [],
   "source": [
    "import gdown\n",
    "\n",
    "#https://drive.google.com/file/d/1ytZBMhTWZ6pGrrzID2a7mPASLKOWGhri/view?usp=drive_link\n",
    "file_id = '1ytZBMhTWZ6pGrrzID2a7mPASLKOWGhri'\n",
    "destination = '/workspace/Progan_val.zip'  # Desired file name and extension\n",
    "\n",
    "# Construct the download URL\n",
    "url = f'https://drive.google.com/uc?id={file_id}'\n",
    "\n",
    "# Download the file\n",
    "gdown.download(url, destination, quiet=False)\n"
   ]
  },
  {
   "cell_type": "code",
   "execution_count": null,
   "metadata": {},
   "outputs": [],
   "source": []
  }
 ],
 "metadata": {
  "accelerator": "GPU",
  "colab": {
   "gpuType": "T4",
   "provenance": []
  },
  "kernelspec": {
   "display_name": "Python 3 (ipykernel)",
   "language": "python",
   "name": "python3"
  },
  "language_info": {
   "codemirror_mode": {
    "name": "ipython",
    "version": 3
   },
   "file_extension": ".py",
   "mimetype": "text/x-python",
   "name": "python",
   "nbconvert_exporter": "python",
   "pygments_lexer": "ipython3",
   "version": "3.10.13"
  }
 },
 "nbformat": 4,
 "nbformat_minor": 4
}
