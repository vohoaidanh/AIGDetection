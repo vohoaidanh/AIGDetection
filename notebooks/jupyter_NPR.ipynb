{
 "cells": [
  {
   "cell_type": "markdown",
   "metadata": {
    "id": "4bsPZQKgE3tX"
   },
   "source": [
    "## AIGCDetectBenchmark\n"
   ]
  },
  {
   "cell_type": "markdown",
   "metadata": {},
   "source": [
    "## Install requirement"
   ]
  },
  {
   "cell_type": "code",
   "execution_count": null,
   "metadata": {},
   "outputs": [],
   "source": [
    "!git clone https://github.com/vohoaidanh/AIGDetection.git"
   ]
  },
  {
   "cell_type": "code",
   "execution_count": null,
   "metadata": {
    "colab": {
     "base_uri": "https://localhost:8080/"
    },
    "id": "yZtRWDeMing8",
    "outputId": "5d83d40e-05ac-4bbe-a5b5-29ea56eaaca5"
   },
   "outputs": [],
   "source": [
    "!pip install ftfy -q\n",
    "!pip install natsort -q\n",
    "!pip install blobfile -q\n",
    "#!pip install mpi4py -q\n",
    "!pip install comet_ml -q\n",
    "!pip install grad-cam -q\n"
   ]
  },
  {
   "cell_type": "code",
   "execution_count": null,
   "metadata": {
    "scrolled": true
   },
   "outputs": [],
   "source": [
    "!pip install tensorboardX -q\n",
    "!apt-get install -y unzip -q\n",
    "!apt-get install -y zip -q\n",
    "!pip install regex -q\n",
    "!pip install imageio -q\n",
    "!pip install opencv-python -q\n",
    "!apt-get install -y libgl1-mesa-glx -q\n",
    "!pip install scikit-learn -q\n",
    "!pip install scikit-image -q\n",
    "!pip install gdown -q\n",
    "!pip install pickleshare -q"
   ]
  },
  {
   "cell_type": "code",
   "execution_count": null,
   "metadata": {
    "colab": {
     "base_uri": "https://localhost:8080/"
    },
    "id": "n9HXSjhchADX",
    "outputId": "e7c10e63-1b0e-4c5f-8ea6-cdc24bd92a72"
   },
   "outputs": [],
   "source": [
    "%cd /workspace/AIGDetection"
   ]
  },
  {
   "cell_type": "markdown",
   "metadata": {},
   "source": [
    "## Train"
   ]
  },
  {
   "cell_type": "code",
   "execution_count": null,
   "metadata": {
    "scrolled": true
   },
   "outputs": [],
   "source": [
    "#NRP\n",
    "!python train.py \\\n",
    "--name NRP-4class-resnet-car-cat-chair-horse \\\n",
    "--dataroot /workspace/datasets/ForenSynths_train_val \\\n",
    "--classes car,cat,chair,horse --batch_size 32 --delr_freq 10 --lr 0.0002 --niter 50"
   ]
  },
  {
   "cell_type": "code",
   "execution_count": 8,
   "metadata": {
    "scrolled": true
   },
   "outputs": [
    {
     "name": "stdout",
     "output_type": "stream",
     "text": [
      "----------------- Options ---------------\n",
      "                     arch: res50                         \n",
      "               batch_size: 32                            \t[default: 64]\n",
      "                    beta1: 0.9                           \n",
      "                blur_prob: 0                             \n",
      "                 blur_sig: 0.5                           \n",
      "          checkpoints_dir: ./checkpoints                 \n",
      "                class_bal: False                         \n",
      "                  classes: car,cat,chair,horse           \t[default: ]\n",
      "           continue_train: False                         \n",
      "                 cropSize: 224                           \n",
      "                 data_aug: False                         \n",
      "                 dataroot: /workspace/dataset/ForenSynths_train_val_tiny\t[default: ./dataset/]\n",
      "                delr_freq: 10                            \t[default: 20]\n",
      "            detect_method: local_grad                    \t[default: NPR]\n",
      "          earlystop_epoch: 15                            \n",
      "                    epoch: latest                        \n",
      "              epoch_count: 1                             \n",
      "                  gpu_ids: 0                             \n",
      "                init_gain: 0.02                          \n",
      "                init_type: normal                        \n",
      "                  isTrain: True                          \t[default: None]\n",
      "               jpg_method: cv2                           \n",
      "                 jpg_prob: 0                             \n",
      "                 jpg_qual: 75                            \n",
      "               last_epoch: -1                            \n",
      "                 loadSize: 256                           \n",
      "                loss_freq: 400                           \n",
      "                       lr: 0.0002                        \t[default: 0.0001]\n",
      "                     mode: binary                        \n",
      "                     name: Gaussblur-4class-resnet-car-cat-chair-horse2024_06_20_05_16_40\t[default: experiment_name]\n",
      "                new_optim: False                         \n",
      "                    niter: 1                             \t[default: 1000]\n",
      "                  no_flip: False                         \n",
      "              num_threads: 4                             \n",
      "                    optim: adam                          \n",
      "           resize_or_crop: scale_and_crop                \n",
      "                rz_interp: bilinear                      \n",
      "          save_epoch_freq: 20                            \n",
      "         save_latest_freq: 2000                          \n",
      "           serial_batches: False                         \n",
      "                   suffix:                               \n",
      "              train_split: train                         \n",
      "                val_split: val                           \n",
      "----------------- End -------------------\n",
      "train.py  --name  Gaussblur-4class-resnet-car-cat-chair-horse  --dataroot  /workspace/dataset/ForenSynths_train_val_tiny  --classes  car,cat,chair,horse  --batch_size  32  --delr_freq  10  --lr  0.0002  --niter  1  --detect_method  local_grad\n",
      "Detect method model local_grad\n",
      "cwd: /workspace/AIGDetection\n",
      "(Val @ epoch 0) acc: 0.529375; ap: 0.7043111990436597\n",
      "acc increate 0 --> 0.529375, saving best model\n",
      "Saving model ./checkpoints/Gaussblur-4class-resnet-car-cat-chair-horse2024_06_20_05_16_40/model_epoch_epoch_0.pth\n",
      "*************************\n",
      "2024_06_20_05_16_47\n",
      "(0 biggan    ) acc: 56.3; ap: 58.9\n",
      "(1 Mean      ) acc: 56.3; ap: 58.9\n",
      "*************************\n",
      "2024_06_20_05_16_53\n",
      "Saving model ./checkpoints/Gaussblur-4class-resnet-car-cat-chair-horse2024_06_20_05_16_40/model_epoch_last.pth\n"
     ]
    }
   ],
   "source": [
    "#Gaussian blur\n",
    "!python train.py \\\n",
    "--name Gaussblur-4class-resnet-car-cat-chair-horse \\\n",
    "--dataroot /workspace/dataset/ForenSynths_train_val_tiny \\\n",
    "--classes car,cat,chair,horse --batch_size 32 --delr_freq 10 --lr 0.0002 --niter 1 \\\n",
    "--detect_method local_grad"
   ]
  },
  {
   "cell_type": "markdown",
   "metadata": {},
   "source": [
    "## Test mode"
   ]
  },
  {
   "cell_type": "code",
   "execution_count": null,
   "metadata": {},
   "outputs": [],
   "source": [
    "!ls checkpoints/*/*.pth\n"
   ]
  },
  {
   "cell_type": "code",
   "execution_count": null,
   "metadata": {},
   "outputs": [],
   "source": [
    "#!ls checkpoints/*/*.pth\n",
    "import os\n",
    "pattern = 'NRP-4class'\n",
    "model_paths=[]\n",
    "model_path = ''\n",
    "pths = []\n",
    "for a,b,c in os.walk('checkpoints'):\n",
    "    if len(c)>0:\n",
    "        names = [os.path.join(a,i) for i in c if 'best' in i]\n",
    "        if names is not None:\n",
    "            model_paths.extend(names)\n",
    "\n",
    "model_paths = [i for i in model_paths if pattern in i]\n",
    "if len(model_paths)>0:\n",
    "    model_path = model_paths[-1]\n",
    "print(model_path)"
   ]
  },
  {
   "cell_type": "code",
   "execution_count": null,
   "metadata": {},
   "outputs": [],
   "source": [
    "!ls checkpoints/*/*.pth"
   ]
  },
  {
   "cell_type": "code",
   "execution_count": null,
   "metadata": {
    "scrolled": true
   },
   "outputs": [],
   "source": [
    "!python test.py --model_path $model_path --batch_size 32"
   ]
  },
  {
   "cell_type": "code",
   "execution_count": null,
   "metadata": {
    "scrolled": true
   },
   "outputs": [],
   "source": [
    "!python test.py --model_path $model_path --batch_size 32"
   ]
  },
  {
   "cell_type": "code",
   "execution_count": null,
   "metadata": {
    "scrolled": true
   },
   "outputs": [],
   "source": [
    "!python test.py --model_path checkpoints/Gaussblur-4class-resnet-car-cat-chair-horse2024_06_19_02_28_49/model_epoch_best.pth --batch_size 32"
   ]
  },
  {
   "cell_type": "code",
   "execution_count": null,
   "metadata": {
    "scrolled": true
   },
   "outputs": [],
   "source": [
    "!python test.py --model_path $model_path --batch_size 32"
   ]
  },
  {
   "cell_type": "code",
   "execution_count": null,
   "metadata": {
    "scrolled": true
   },
   "outputs": [],
   "source": [
    "!python test.py --model_path $model_path --batch_size 32"
   ]
  },
  {
   "cell_type": "code",
   "execution_count": null,
   "metadata": {
    "scrolled": true
   },
   "outputs": [],
   "source": [
    "!python test.py --model_path $model_path --batch_size 32"
   ]
  },
  {
   "cell_type": "code",
   "execution_count": null,
   "metadata": {
    "scrolled": true
   },
   "outputs": [],
   "source": [
    "!python test.py --model_path $model_path --batch_size 32"
   ]
  },
  {
   "cell_type": "code",
   "execution_count": null,
   "metadata": {
    "scrolled": true
   },
   "outputs": [],
   "source": [
    "#Fatblur test\n",
    "!python test.py --model_path $model_path --batch_size 32"
   ]
  },
  {
   "cell_type": "code",
   "execution_count": null,
   "metadata": {
    "scrolled": true
   },
   "outputs": [],
   "source": [
    "#Gradient test\n",
    "!python test.py --model_path $model_path --batch_size 32"
   ]
  },
  {
   "cell_type": "code",
   "execution_count": null,
   "metadata": {
    "scrolled": true
   },
   "outputs": [],
   "source": [
    "#Gradient test\n",
    "!python test.py --model_path $model_path --batch_size 32"
   ]
  },
  {
   "cell_type": "code",
   "execution_count": null,
   "metadata": {
    "scrolled": true
   },
   "outputs": [],
   "source": [
    "#Gradient full resnet test\n",
    "!python test.py --model_path $model_path --batch_size 32"
   ]
  },
  {
   "cell_type": "code",
   "execution_count": null,
   "metadata": {
    "scrolled": true
   },
   "outputs": [],
   "source": [
    "#Gradient full resnet test\n",
    "!python test.py --model_path $model_path --batch_size 32"
   ]
  },
  {
   "cell_type": "code",
   "execution_count": null,
   "metadata": {},
   "outputs": [],
   "source": [
    "!du -h /workspace/dataset/DiffusionForensics"
   ]
  },
  {
   "cell_type": "markdown",
   "metadata": {},
   "source": [
    "## Download data\n"
   ]
  },
  {
   "cell_type": "code",
   "execution_count": null,
   "metadata": {},
   "outputs": [],
   "source": [
    "import gdown\n",
    "\n",
    "#https://drive.google.com/file/d/1ytZBMhTWZ6pGrrzID2a7mPASLKOWGhri/view?usp=drive_link\n",
    "file_id = '1ytZBMhTWZ6pGrrzID2a7mPASLKOWGhri'\n",
    "destination = '/workspace/Progan_val.zip'  # Desired file name and extension\n",
    "\n",
    "# Construct the download URL\n",
    "url = f'https://drive.google.com/uc?id={file_id}'\n",
    "\n",
    "# Download the file\n",
    "gdown.download(url, destination, quiet=False)\n"
   ]
  },
  {
   "cell_type": "code",
   "execution_count": null,
   "metadata": {},
   "outputs": [],
   "source": []
  }
 ],
 "metadata": {
  "accelerator": "GPU",
  "colab": {
   "gpuType": "T4",
   "provenance": []
  },
  "kernelspec": {
   "display_name": "Python 3 (ipykernel)",
   "language": "python",
   "name": "python3"
  },
  "language_info": {
   "codemirror_mode": {
    "name": "ipython",
    "version": 3
   },
   "file_extension": ".py",
   "mimetype": "text/x-python",
   "name": "python",
   "nbconvert_exporter": "python",
   "pygments_lexer": "ipython3",
   "version": "3.10.13"
  }
 },
 "nbformat": 4,
 "nbformat_minor": 4
}
